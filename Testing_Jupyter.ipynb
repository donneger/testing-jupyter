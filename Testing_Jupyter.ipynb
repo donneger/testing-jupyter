{
 "cells": [
  {
   "cell_type": "markdown",
   "id": "868f9651-a777-4135-93b4-83f725f3ab12",
   "metadata": {},
   "source": [
    "### Using previous program to learn Jupyter."
   ]
  },
  {
   "cell_type": "markdown",
   "id": "0630126f-b36d-4405-abd8-1743f4eb6df9",
   "metadata": {
    "tags": []
   },
   "source": [
    "# Program to calculate BMI for pands Lab 2.2\n",
    "## Author: Gerry Donnelly\n",
    "#### Program takes Height and Weight inputs from the user and outputs the BMI score and indicates if Low, Normal or High"
   ]
  },
  {
   "cell_type": "code",
   "execution_count": 6,
   "id": "84c4ead9-c58a-4f08-9b24-ae504eac13c8",
   "metadata": {},
   "outputs": [],
   "source": [
    "class color: # Define Class color to help with formatting the output strings, sourced from https://stackoverflow.com/questions/8924173/how-do-i-print-bold-text-in-python/8930747\n",
    "   PURPLE = '\\033[95m'\n",
    "   CYAN = '\\033[96m'\n",
    "   DARKCYAN = '\\033[36m'\n",
    "   BLUE = '\\033[94m'\n",
    "   GREEN = '\\033[92m'\n",
    "   YELLOW = '\\033[93m'\n",
    "   RED = '\\033[91m'\n",
    "   BOLD = '\\033[1m'\n",
    "   UNDERLINE = '\\033[4m'\n",
    "   END = '\\033[0m'\n",
    "\n",
    "format = color() "
   ]
  },
  {
   "cell_type": "markdown",
   "id": "20f95d74-9b35-478c-b0ab-8bee6f586438",
   "metadata": {},
   "source": [
    "### Inputs are converted to integers at the input stage by adding \"int(.....\")"
   ]
  },
  {
   "cell_type": "code",
   "execution_count": 8,
   "id": "e03aed58-2735-4347-b6e8-0a0b88428400",
   "metadata": {},
   "outputs": [
    {
     "name": "stdin",
     "output_type": "stream",
     "text": [
      "\n",
      "Please enter your \u001b[1m\u001b[4mHeight\u001b[0m in CM:  180\n",
      "Please enter your \u001b[1m\u001b[4mWeight\u001b[0m in KG:  90\n"
     ]
    },
    {
     "name": "stdout",
     "output_type": "stream",
     "text": [
      "\n",
      "Congrats Your BMI is \u001b[92m\u001b[1m\u001b[4m25.0 and is NORMAL \u001b[0m\n"
     ]
    }
   ],
   "source": [
    "Height = int(input(\"\\nPlease enter your \" + format.BOLD + format.UNDERLINE + \"Height\" + format.END + \" in CM: \")) # User inputs Height in CM\"\n",
    "Weight = int(input(\"Please enter your \" + format.BOLD + format.UNDERLINE + \"Weight\" + format.END + \" in KG: \")) # User inputs Weight in KG\"\n",
    "\n",
    "BMI = round(Weight/((Height/100)*2),2)   # Calculate the BMI from the user inputs rounded to 2 decimal places. \n",
    "\n",
    "# This section checks the BMI result against the normal BMI ctriteria for Low, Normal, High and prints out the result, text is formatted based on the result. \n",
    "\n",
    "if BMI<18.5:    # Check if BMI low\n",
    "    print (\"\\nYour BMI is \" + format.RED + format.BOLD + format.UNDERLINE + str(BMI) + \" and is LOW\" + format.END)\n",
    "elif BMI>25:    #Check if BMI is High\n",
    "    print (\"\\nYour BMI is \" +  format.RED + format.BOLD + format.UNDERLINE+ str(BMI) + \" and is HIGH\" + format.END) \n",
    "else:   # If BMI is not Low or High then it is Nornal.\n",
    "    print (\"\\nCongrats Your BMI is \" + format.GREEN + format.BOLD + format.UNDERLINE + str(BMI)  + \" and is NORMAL \" + format.END) # If not Low or High then it is Nornal."
   ]
  }
 ],
 "metadata": {
  "kernelspec": {
   "display_name": "Python 3",
   "language": "python",
   "name": "python3"
  },
  "language_info": {
   "codemirror_mode": {
    "name": "ipython",
    "version": 3
   },
   "file_extension": ".py",
   "mimetype": "text/x-python",
   "name": "python",
   "nbconvert_exporter": "python",
   "pygments_lexer": "ipython3",
   "version": "3.8.8"
  }
 },
 "nbformat": 4,
 "nbformat_minor": 5
}
