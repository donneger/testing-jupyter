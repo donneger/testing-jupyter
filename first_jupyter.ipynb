{
 "cells": [
  {
   "cell_type": "code",
   "execution_count": 4,
   "id": "971ed039-2922-421c-a4e3-72e0071a583e",
   "metadata": {},
   "outputs": [
    {
     "name": "stdin",
     "output_type": "stream",
     "text": [
      "Enter first number:  6\n",
      "Enter second number:  5\n"
     ]
    },
    {
     "name": "stdout",
     "output_type": "stream",
     "text": [
      "11\n"
     ]
    }
   ],
   "source": [
    "num1 = int(input(\"Enter first number: \"))\n",
    "num2 = int(input(\"Enter second number: \"))\n",
    "print(num1+num2)"
   ]
  },
  {
   "cell_type": "code",
   "execution_count": 14,
   "id": "3e1dc744-7116-4917-9e74-64f7478d683a",
   "metadata": {},
   "outputs": [
    {
     "name": "stdout",
     "output_type": "stream",
     "text": [
      "12\n"
     ]
    }
   ],
   "source": [
    "print (num1+num2)"
   ]
  },
  {
   "cell_type": "code",
   "execution_count": 11,
   "id": "65a42585-9d00-4d39-abf8-58aa1330e299",
   "metadata": {},
   "outputs": [
    {
     "name": "stdin",
     "output_type": "stream",
     "text": [
      "What is your name:  Gerry\n"
     ]
    },
    {
     "name": "stdout",
     "output_type": "stream",
     "text": [
      "Gerry\n"
     ]
    }
   ],
   "source": [
    "name = input(\"What is your name: \")\n",
    "print(name)"
   ]
  },
  {
   "cell_type": "markdown",
   "id": "37dc7719-1bce-44c5-8036-dc0101fdb07c",
   "metadata": {
    "jupyter": {
     "source_hidden": true
    },
    "tags": []
   },
   "source": [
    "# We are Labrador Puppies\n",
    "\n",
    "- **Puppy 1**\n",
    "- *Puppy 2*\n",
    "\n",
    "\n",
    "![](https://i.guim.co.uk/img/media/177f871940f3dabc5eb4b80020ec40a75648da99/0_176_4737_2840/master/4737.jpg?width=1200&height=1200&quality=85&auto=format&fit=crop&s=142afd8c5e67b79d939207a5e8e90fad)\n",
    "\n",
    "**Bold Test**\n"
   ]
  },
  {
   "cell_type": "markdown",
   "id": "47a9804a-4710-4dfa-8b5e-7486ebf0ed72",
   "metadata": {},
   "source": [
    "# This is an Heading1 tag\n",
    "## This is an Heading2 tag\n",
    "###### This is an Heading6 tag"
   ]
  },
  {
   "cell_type": "markdown",
   "id": "1754c276-eb6b-46cc-93f5-9a376d54ecaf",
   "metadata": {},
   "source": [
    "*This text will be italic*\n",
    "_This will also be italic_\n",
    "\n",
    "**This text will be bold**\n",
    "__This will also be bold__\n",
    "\n",
    "_You **can** combine them_"
   ]
  },
  {
   "cell_type": "markdown",
   "id": "9dd40b91-c713-401d-81d5-8d481bbdcb84",
   "metadata": {},
   "source": [
    "First Header | Second Header\n",
    "------------ | -------------\n",
    "Content from cell 1 | Content from cell 2\n",
    "Content in the first column | Content in the second column"
   ]
  },
  {
   "cell_type": "code",
   "execution_count": null,
   "id": "66533bab-215e-4070-8190-acd51f5c7269",
   "metadata": {},
   "outputs": [],
   "source": []
  }
 ],
 "metadata": {
  "kernelspec": {
   "display_name": "Python 3",
   "language": "python",
   "name": "python3"
  },
  "language_info": {
   "codemirror_mode": {
    "name": "ipython",
    "version": 3
   },
   "file_extension": ".py",
   "mimetype": "text/x-python",
   "name": "python",
   "nbconvert_exporter": "python",
   "pygments_lexer": "ipython3",
   "version": "3.8.8"
  }
 },
 "nbformat": 4,
 "nbformat_minor": 5
}
